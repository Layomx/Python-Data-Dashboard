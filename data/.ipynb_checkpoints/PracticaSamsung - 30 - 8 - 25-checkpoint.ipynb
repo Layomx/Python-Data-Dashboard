{
 "cells": [
  {
   "cell_type": "markdown",
   "id": "33a13b4c-9000-4d56-92f3-d3873757ba21",
   "metadata": {},
   "source": [
    "#### Paso 1: Crear el inventario"
   ]
  },
  {
   "cell_type": "code",
   "execution_count": 16,
   "id": "7b2833d5-f47d-4fd5-9216-c1bcad39cc3d",
   "metadata": {},
   "outputs": [],
   "source": [
    "import json\n",
    "\n",
    "market_data = {\n",
    "    'Manzanas': {\n",
    "        'cantidad': 50,\n",
    "        'precio_unitario': 1.25,\n",
    "        'categoria': 'Frutas'\n",
    "    },\n",
    "    'Peras': {\n",
    "        'cantidad': 30,\n",
    "        'precio_unitario': 1.20,\n",
    "        'categoria': 'Frutas'\n",
    "    },\n",
    "    'Bananas': {\n",
    "        'cantidad': 45,\n",
    "        'precio_unitario': 1.25,\n",
    "        'categoria': 'Frutas'\n",
    "    }\n",
    "}"
   ]
  },
  {
   "cell_type": "markdown",
   "id": "86a3ea2f-037e-4de4-9781-b3f4944c1610",
   "metadata": {},
   "source": [
    "#### Paso 2: Serializacion a JSON"
   ]
  },
  {
   "cell_type": "code",
   "execution_count": 19,
   "id": "7507c92f-6cd6-4eb2-b5d0-2890438f4e8a",
   "metadata": {},
   "outputs": [
    {
     "name": "stdout",
     "output_type": "stream",
     "text": [
      "{\"Manzanas\": {\"cantidad\": 50, \"precio_unitario\": 1.25, \"categoria\": \"Frutas\"}, \"Peras\": {\"cantidad\": 30, \"precio_unitario\": 1.2, \"categoria\": \"Frutas\"}, \"Bananas\": {\"cantidad\": 45, \"precio_unitario\": 1.25, \"categoria\": \"Frutas\"}}\n"
     ]
    }
   ],
   "source": [
    "json_market_data = json.dumps(market_data)\n",
    "print(json_market_data)\n",
    "\n",
    "with open('json_market_data.json', 'w') as archivo:\n",
    "    json.dump(json_market_data, archivo, indent = 4)"
   ]
  },
  {
   "cell_type": "markdown",
   "id": "bc301bd6-a6bd-44a1-a3bc-23137f214ad8",
   "metadata": {},
   "source": [
    "#### Paso 3: Deserializacion de JSON"
   ]
  },
  {
   "cell_type": "code",
   "execution_count": 23,
   "id": "8a2de7e1-0d21-488c-85e9-a77b9f92ca45",
   "metadata": {},
   "outputs": [
    {
     "name": "stdout",
     "output_type": "stream",
     "text": [
      "{\"Manzanas\": {\"cantidad\": 50, \"precio_unitario\": 1.25, \"categoria\": \"Frutas\"}, \"Peras\": {\"cantidad\": 30, \"precio_unitario\": 1.2, \"categoria\": \"Frutas\"}, \"Bananas\": {\"cantidad\": 45, \"precio_unitario\": 1.25, \"categoria\": \"Frutas\"}}\n"
     ]
    }
   ],
   "source": [
    "with open('json_market_data.json', 'r') as archivo:\n",
    "    inventario = json.load(archivo)\n",
    "\n",
    "print(inventario)"
   ]
  },
  {
   "cell_type": "code",
   "execution_count": null,
   "id": "393039b8-b558-4f52-8ee6-b696418bc86a",
   "metadata": {},
   "outputs": [],
   "source": []
  }
 ],
 "metadata": {
  "kernelspec": {
   "display_name": "Python [conda env:base] *",
   "language": "python",
   "name": "conda-base-py"
  },
  "language_info": {
   "codemirror_mode": {
    "name": "ipython",
    "version": 3
   },
   "file_extension": ".py",
   "mimetype": "text/x-python",
   "name": "python",
   "nbconvert_exporter": "python",
   "pygments_lexer": "ipython3",
   "version": "3.13.5"
  }
 },
 "nbformat": 4,
 "nbformat_minor": 5
}
